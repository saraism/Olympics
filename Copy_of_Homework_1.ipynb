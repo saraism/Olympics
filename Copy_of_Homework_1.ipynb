{
  "nbformat": 4,
  "nbformat_minor": 0,
  "metadata": {
    "colab": {
      "provenance": [],
      "include_colab_link": true
    },
    "kernelspec": {
      "name": "python3",
      "display_name": "Python 3"
    },
    "language_info": {
      "name": "python"
    }
  },
  "cells": [
    {
      "cell_type": "markdown",
      "metadata": {
        "id": "view-in-github",
        "colab_type": "text"
      },
      "source": [
        "<a href=\"https://colab.research.google.com/github/saraism/Olympics/blob/main/Copy_of_Homework_1.ipynb\" target=\"_parent\"><img src=\"https://colab.research.google.com/assets/colab-badge.svg\" alt=\"Open In Colab\"/></a>"
      ]
    },
    {
      "cell_type": "markdown",
      "source": [
        "# **Numpy Homework**"
      ],
      "metadata": {
        "id": "SqDh5BOz9lcf"
      }
    },
    {
      "cell_type": "markdown",
      "source": [
        "Import numpy"
      ],
      "metadata": {
        "id": "i-3Eqhei9wal"
      }
    },
    {
      "cell_type": "code",
      "execution_count": null,
      "metadata": {
        "id": "i7rFAbwW9VoA"
      },
      "outputs": [],
      "source": [
        "import numpy as np"
      ]
    },
    {
      "cell_type": "markdown",
      "source": [
        "Create an array of 10 zeros (Креирај низа од 10 нули)"
      ],
      "metadata": {
        "id": "LJy6DwNB9ytD"
      }
    },
    {
      "cell_type": "code",
      "source": [
        "x=np.zeros(10)\n",
        "print(x)"
      ],
      "metadata": {
        "id": "Pu2hg1qy94vV",
        "colab": {
          "base_uri": "https://localhost:8080/"
        },
        "outputId": "1c64dbfa-1444-4b4e-bb95-91dde0485acc"
      },
      "execution_count": null,
      "outputs": [
        {
          "output_type": "stream",
          "name": "stdout",
          "text": [
            "[0. 0. 0. 0. 0. 0. 0. 0. 0. 0.]\n"
          ]
        }
      ]
    },
    {
      "cell_type": "markdown",
      "source": [
        "Create an array of 10 ones (Креирај низа од 10 единици)"
      ],
      "metadata": {
        "id": "Lf4zNvW-95Ok"
      }
    },
    {
      "cell_type": "code",
      "source": [
        "y=np.ones(10)\n",
        "print(y)"
      ],
      "metadata": {
        "id": "YNe6CVGs9-AT",
        "colab": {
          "base_uri": "https://localhost:8080/"
        },
        "outputId": "74c22f09-97cd-4027-8209-2de3c9635e54"
      },
      "execution_count": null,
      "outputs": [
        {
          "output_type": "stream",
          "name": "stdout",
          "text": [
            "[1. 1. 1. 1. 1. 1. 1. 1. 1. 1.]\n"
          ]
        }
      ]
    },
    {
      "cell_type": "markdown",
      "source": [
        "Create an array of 10 fives (Креирај низа од 10 петки)"
      ],
      "metadata": {
        "id": "3rxkaZHD9-cD"
      }
    },
    {
      "cell_type": "code",
      "source": [
        "#nacin 1\n",
        "print(y*5)"
      ],
      "metadata": {
        "id": "G7dN6wqm-Dza",
        "colab": {
          "base_uri": "https://localhost:8080/"
        },
        "outputId": "49e2ecdd-3b66-49aa-89b4-cd47518457b6"
      },
      "execution_count": null,
      "outputs": [
        {
          "output_type": "stream",
          "name": "stdout",
          "text": [
            "[5. 5. 5. 5. 5. 5. 5. 5. 5. 5.]\n"
          ]
        }
      ]
    },
    {
      "cell_type": "code",
      "source": [
        "#nacin 2\n",
        "z=np.full((10),5)\n",
        "print(z)"
      ],
      "metadata": {
        "id": "D8ySKJf--haa",
        "colab": {
          "base_uri": "https://localhost:8080/"
        },
        "outputId": "3034f15a-8f8d-4b2b-8a31-f46a7399eafc"
      },
      "execution_count": null,
      "outputs": [
        {
          "output_type": "stream",
          "name": "stdout",
          "text": [
            "[5 5 5 5 5 5 5 5 5 5]\n"
          ]
        }
      ]
    },
    {
      "cell_type": "markdown",
      "source": [
        "Create an array of the integers from 10 to 50 (Креирај низа со цели броеви од 10 до 50)"
      ],
      "metadata": {
        "id": "1BkyN-1K-EHC"
      }
    },
    {
      "cell_type": "code",
      "source": [
        "x=np.arange(10,50)\n",
        "print(x)"
      ],
      "metadata": {
        "id": "KGxOaVMx-K_v",
        "colab": {
          "base_uri": "https://localhost:8080/"
        },
        "outputId": "e0ff34ae-ad56-401e-88ec-4e37841e4d22"
      },
      "execution_count": null,
      "outputs": [
        {
          "output_type": "stream",
          "name": "stdout",
          "text": [
            "[10 11 12 13 14 15 16 17 18 19 20 21 22 23 24 25 26 27 28 29 30 31 32 33\n",
            " 34 35 36 37 38 39 40 41 42 43 44 45 46 47 48 49]\n"
          ]
        }
      ]
    },
    {
      "cell_type": "markdown",
      "source": [
        "Create an array of all the even integers from 10 to 50 (Креирај низа со цели парни броеви од 10 до 50)"
      ],
      "metadata": {
        "id": "HoOd9li6-LVi"
      }
    },
    {
      "cell_type": "code",
      "source": [
        "x=np.arange(10,50,2)\n",
        "print(x)"
      ],
      "metadata": {
        "id": "NeNOTk4n-RTM",
        "colab": {
          "base_uri": "https://localhost:8080/"
        },
        "outputId": "da0ee14e-27a3-4733-b3d0-179de04f77cd"
      },
      "execution_count": null,
      "outputs": [
        {
          "output_type": "stream",
          "name": "stdout",
          "text": [
            "[10 12 14 16 18 20 22 24 26 28 30 32 34 36 38 40 42 44 46 48]\n"
          ]
        }
      ]
    },
    {
      "cell_type": "markdown",
      "source": [
        "Create a 3x3 matrix with values ranging from 0 to 8 (Креирај 3x3 матрица со вредности од 0 до 8)"
      ],
      "metadata": {
        "id": "P1eY5vsu-XBa"
      }
    },
    {
      "cell_type": "code",
      "source": [
        "#nacin 1\n",
        "x=np.arange(9)\n",
        "y=x.reshape(3,3)\n",
        "print(y)"
      ],
      "metadata": {
        "id": "5PI_nRyO-dGi",
        "colab": {
          "base_uri": "https://localhost:8080/"
        },
        "outputId": "9f11053d-3a16-4e10-ee05-95ae24f5476e"
      },
      "execution_count": null,
      "outputs": [
        {
          "output_type": "stream",
          "name": "stdout",
          "text": [
            "[[0 1 2]\n",
            " [3 4 5]\n",
            " [6 7 8]]\n"
          ]
        }
      ]
    },
    {
      "cell_type": "code",
      "source": [
        "#nacin 2\n",
        "y = np.array([[0, 1, 2], [3, 4, 5], [6, 7, 8]])\n",
        "print(y)\n"
      ],
      "metadata": {
        "id": "TNqqoPPA-dEC",
        "colab": {
          "base_uri": "https://localhost:8080/"
        },
        "outputId": "fc3d021e-9a36-48fe-dd4e-4087994bb9a8"
      },
      "execution_count": null,
      "outputs": [
        {
          "output_type": "stream",
          "name": "stdout",
          "text": [
            "[[0 1 2]\n",
            " [3 4 5]\n",
            " [6 7 8]]\n"
          ]
        }
      ]
    },
    {
      "cell_type": "markdown",
      "source": [
        "Create a 3x3 identity matrix (Креирај 3x3 матрица на идентитет)"
      ],
      "metadata": {
        "id": "rwx5Txqt-cLy"
      }
    },
    {
      "cell_type": "code",
      "source": [
        "x=np.eye(3,3)\n",
        "print(x)"
      ],
      "metadata": {
        "id": "LWWdnB70-oh6",
        "colab": {
          "base_uri": "https://localhost:8080/"
        },
        "outputId": "e32746f1-ec64-4a0c-d9f8-8af149518f84"
      },
      "execution_count": null,
      "outputs": [
        {
          "output_type": "stream",
          "name": "stdout",
          "text": [
            "[[1. 0. 0.]\n",
            " [0. 1. 0.]\n",
            " [0. 0. 1.]]\n"
          ]
        }
      ]
    },
    {
      "cell_type": "markdown",
      "source": [
        "Use NumPy to generate a random number between 0 and 1 (Со помош на numpy генерирај рандом број помеѓу 0 и 1)"
      ],
      "metadata": {
        "id": "7FH47vKb-o4p"
      }
    },
    {
      "cell_type": "code",
      "source": [
        "x=np.random.random((1))\n",
        "print(x)"
      ],
      "metadata": {
        "id": "PZ8BcEY7-zcG",
        "colab": {
          "base_uri": "https://localhost:8080/"
        },
        "outputId": "eb42c1f9-62bc-4706-8925-9caed028e908"
      },
      "execution_count": null,
      "outputs": [
        {
          "output_type": "stream",
          "name": "stdout",
          "text": [
            "[0.36209313]\n"
          ]
        }
      ]
    },
    {
      "cell_type": "markdown",
      "source": [
        "Use NumPy to generate an array of 25 random numbers (Со помош на numpy генерирај листа од 25 рандом броеви)"
      ],
      "metadata": {
        "id": "jzlFgVrk-zv2"
      }
    },
    {
      "cell_type": "code",
      "source": [
        "x=np.random.random((25))\n",
        "print(x)"
      ],
      "metadata": {
        "id": "GjpAPmY2-8nE",
        "colab": {
          "base_uri": "https://localhost:8080/"
        },
        "outputId": "087fade9-8136-4076-90b5-bb4d38330fa3"
      },
      "execution_count": null,
      "outputs": [
        {
          "output_type": "stream",
          "name": "stdout",
          "text": [
            "[0.58976971 0.81243276 0.23477575 0.58143166 0.85073335 0.56852229\n",
            " 0.9390697  0.33965114 0.32608227 0.86445742 0.38436879 0.54483153\n",
            " 0.40630869 0.81918094 0.35291971 0.54721586 0.21954125 0.96198345\n",
            " 0.2763021  0.62844247 0.02139384 0.01697581 0.25730927 0.55850139\n",
            " 0.29838166]\n"
          ]
        }
      ]
    },
    {
      "cell_type": "markdown",
      "source": [
        "Create the following matrix: (Креирај ја следнава матрица)"
      ],
      "metadata": {
        "id": "qq6fCX97-84c"
      }
    },
    {
      "cell_type": "code",
      "source": [
        "#pisuvajte go kodot vo ovaa kelija, za da ne go prebrisete resenieto vo slednata\n",
        "x=np.ones((8,6))\n",
        "print(x*50)"
      ],
      "metadata": {
        "id": "eXi3qI1XBz75",
        "colab": {
          "base_uri": "https://localhost:8080/"
        },
        "outputId": "4f931c10-c644-42ac-f597-96b9d79f5262"
      },
      "execution_count": null,
      "outputs": [
        {
          "output_type": "stream",
          "name": "stdout",
          "text": [
            "[[50. 50. 50. 50. 50. 50.]\n",
            " [50. 50. 50. 50. 50. 50.]\n",
            " [50. 50. 50. 50. 50. 50.]\n",
            " [50. 50. 50. 50. 50. 50.]\n",
            " [50. 50. 50. 50. 50. 50.]\n",
            " [50. 50. 50. 50. 50. 50.]\n",
            " [50. 50. 50. 50. 50. 50.]\n",
            " [50. 50. 50. 50. 50. 50.]]\n"
          ]
        }
      ]
    },
    {
      "cell_type": "code",
      "source": [],
      "metadata": {
        "colab": {
          "base_uri": "https://localhost:8080/"
        },
        "id": "n6U7pdOvBz1Q",
        "outputId": "875ea285-83d7-44ca-b6bd-15f9cdb15006"
      },
      "execution_count": null,
      "outputs": [
        {
          "output_type": "stream",
          "name": "stdout",
          "text": [
            "[[50. 50. 50. 50. 50. 50.]\n",
            " [50. 50. 50. 50. 50. 50.]\n",
            " [50. 50. 50. 50. 50. 50.]\n",
            " [50. 50. 50. 50. 50. 50.]\n",
            " [50. 50. 50. 50. 50. 50.]\n",
            " [50. 50. 50. 50. 50. 50.]\n",
            " [50. 50. 50. 50. 50. 50.]\n",
            " [50. 50. 50. 50. 50. 50.]]\n"
          ]
        }
      ]
    },
    {
      "cell_type": "code",
      "source": [
        "#pisuvajte go kodot vo ovaa kelija, za da ne go prebrisete resenieto vo slednata\n",
        "x=np.arange(0.01,1.01,0.01)\n",
        "# print(x)\n",
        "y=x.reshape(10,10)\n",
        "print(y)"
      ],
      "metadata": {
        "id": "oqCk-Bt__ULn",
        "colab": {
          "base_uri": "https://localhost:8080/"
        },
        "outputId": "f63632dd-c04f-4ac5-d273-9f71fb20960b"
      },
      "execution_count": null,
      "outputs": [
        {
          "output_type": "stream",
          "name": "stdout",
          "text": [
            "[[0.01 0.02 0.03 0.04 0.05 0.06 0.07 0.08 0.09 0.1 ]\n",
            " [0.11 0.12 0.13 0.14 0.15 0.16 0.17 0.18 0.19 0.2 ]\n",
            " [0.21 0.22 0.23 0.24 0.25 0.26 0.27 0.28 0.29 0.3 ]\n",
            " [0.31 0.32 0.33 0.34 0.35 0.36 0.37 0.38 0.39 0.4 ]\n",
            " [0.41 0.42 0.43 0.44 0.45 0.46 0.47 0.48 0.49 0.5 ]\n",
            " [0.51 0.52 0.53 0.54 0.55 0.56 0.57 0.58 0.59 0.6 ]\n",
            " [0.61 0.62 0.63 0.64 0.65 0.66 0.67 0.68 0.69 0.7 ]\n",
            " [0.71 0.72 0.73 0.74 0.75 0.76 0.77 0.78 0.79 0.8 ]\n",
            " [0.81 0.82 0.83 0.84 0.85 0.86 0.87 0.88 0.89 0.9 ]\n",
            " [0.91 0.92 0.93 0.94 0.95 0.96 0.97 0.98 0.99 1.  ]]\n"
          ]
        }
      ]
    },
    {
      "cell_type": "code",
      "source": [],
      "metadata": {
        "colab": {
          "base_uri": "https://localhost:8080/"
        },
        "id": "x0K_8yda--UL",
        "outputId": "20c6b886-522d-40b1-e344-b7b80cd8c021"
      },
      "execution_count": null,
      "outputs": [
        {
          "output_type": "stream",
          "name": "stdout",
          "text": [
            "[[0.01 0.02 0.03 0.04 0.05 0.06 0.07 0.08 0.09 0.1 ]\n",
            " [0.11 0.12 0.13 0.14 0.15 0.16 0.17 0.18 0.19 0.2 ]\n",
            " [0.21 0.22 0.23 0.24 0.25 0.26 0.27 0.28 0.29 0.3 ]\n",
            " [0.31 0.32 0.33 0.34 0.35 0.36 0.37 0.38 0.39 0.4 ]\n",
            " [0.41 0.42 0.43 0.44 0.45 0.46 0.47 0.48 0.49 0.5 ]\n",
            " [0.51 0.52 0.53 0.54 0.55 0.56 0.57 0.58 0.59 0.6 ]\n",
            " [0.61 0.62 0.63 0.64 0.65 0.66 0.67 0.68 0.69 0.7 ]\n",
            " [0.71 0.72 0.73 0.74 0.75 0.76 0.77 0.78 0.79 0.8 ]\n",
            " [0.81 0.82 0.83 0.84 0.85 0.86 0.87 0.88 0.89 0.9 ]\n",
            " [0.91 0.92 0.93 0.94 0.95 0.96 0.97 0.98 0.99 1.  ]]\n"
          ]
        }
      ]
    },
    {
      "cell_type": "markdown",
      "source": [
        "Fill the missing values (Дополнете ги вредностите кои фалат)"
      ],
      "metadata": {
        "id": "uJPdzWcgA6TW"
      }
    },
    {
      "cell_type": "code",
      "source": [
        "array = np.array([1, 2, 3, 4, 5, 6, 7, 8, 9, 10])\n",
        "\n",
        "prv_element = array[0]\n",
        "print(\"\\nPrv element:\", prv_element)\n",
        "vtor_element = array[1]\n",
        "print(\"Vtor element:\", vtor_element)\n",
        "tret_element = array[2]\n",
        "print(\"Tret element:\", tret_element)\n",
        "tret_element = array[-3]\n",
        "print(\"Tret element od pozadi:\", tret_element)\n",
        "vtor_element = array[-2]\n",
        "print(\"Vtor element od pozadi:\", vtor_element)\n",
        "prv_element = array[-1]\n",
        "print(\"Prv element od pozadi:\", prv_element)"
      ],
      "metadata": {
        "id": "N4QI4VGdA6je",
        "colab": {
          "base_uri": "https://localhost:8080/"
        },
        "outputId": "e2411a0a-7dbe-4a9c-fc8d-c1c59164bf67"
      },
      "execution_count": null,
      "outputs": [
        {
          "output_type": "stream",
          "name": "stdout",
          "text": [
            "\n",
            "Prv element: 1\n",
            "Vtor element: 2\n",
            "Tret element: 3\n",
            "Tret element od pozadi: 8\n",
            "Vtor element od pozadi: 9\n",
            "Prv element od pozadi: 10\n"
          ]
        }
      ]
    },
    {
      "cell_type": "code",
      "source": [
        "array = np.array([[1, 2, 3], [4, 5, 6], [7, 8, 9], [10, 11, 12]])\n",
        "print(array)\n",
        "\n",
        "red1kolona1 = array[:1,:1]\n",
        "print(\"\\nRed 1,Kolona 1:\\n\", red1kolona1)\n",
        "red1kolona2 = array[:1,1:2]\n",
        "print(\"Red 1,Kolona 2:\\n\", red1kolona2)\n",
        "red2kolona1 = array[1:2,:1]\n",
        "print(\"Red 2,Kolona 1:\\n\", red2kolona1)\n",
        "red2kolona3 = array[1:2,2:3]\n",
        "print(\"Red 2,Kolona 3:\\n\", red2kolona3)\n",
        "#istite baranja no so negativni indeksi\n",
        "red1kolona1 = array[:-3,:-2]\n",
        "print(\"\\nRed 1,Kolona 1:\\n\", red1kolona1)\n",
        "red1kolona2 = array[:-3,-2:-1]\n",
        "print(\"Red 1,Kolona 2:\\n\", red1kolona2)\n",
        "red2kolona1 = array[1:-2,-3:-2]\n",
        "print(\"Red 2,Kolona 1:\\n\", red2kolona1)\n",
        "red2kolona3 = array[1:-2,-1:]\n",
        "print(\"Red 2,Kolona 3:\\n\", red2kolona3)"
      ],
      "metadata": {
        "id": "ymAWVqcbBW57",
        "colab": {
          "base_uri": "https://localhost:8080/"
        },
        "outputId": "49ccf0c9-6ac9-4651-8da4-05fc9d29fc37"
      },
      "execution_count": null,
      "outputs": [
        {
          "output_type": "stream",
          "name": "stdout",
          "text": [
            "[[ 1  2  3]\n",
            " [ 4  5  6]\n",
            " [ 7  8  9]\n",
            " [10 11 12]]\n",
            "\n",
            "Red 1,Kolona 1:\n",
            " [[1]]\n",
            "Red 1,Kolona 2:\n",
            " [[2]]\n",
            "Red 2,Kolona 1:\n",
            " [[4]]\n",
            "Red 2,Kolona 3:\n",
            " [[6]]\n",
            "\n",
            "Red 1,Kolona 1:\n",
            " [[1]]\n",
            "Red 1,Kolona 2:\n",
            " [[2]]\n",
            "Red 2,Kolona 1:\n",
            " [[4]]\n",
            "Red 2,Kolona 3:\n",
            " [[6]]\n"
          ]
        }
      ]
    },
    {
      "cell_type": "code",
      "source": [
        "x = np.arange(15)\n",
        "print(x)\n",
        "print('Prvite 5 elementi se:', x[:5])\n",
        "print('Poslednite 4 elementi se:', x[-4:])\n",
        "print('Prviot element e:', x[1])\n",
        "print(\"Posledniot element e:\", x[-1])\n",
        "print('Site elementi posle 3tiot se:', x[3:])\n",
        "print('Subarray so elementite povegju 2 i 6 (so 6tiot):', x[2:7])\n",
        "print('Subarray so elementite povegju 2 i 6 (bez 6tiot):', x[2:6])\n",
        "print('Sekoj 2 element:', x[::2])\n",
        "print('Sekoj 2 element pocnuvajki od 1:', x[1::2])\n",
        "print('Sekoj 3 element:', x[::3])\n",
        "print('Elementite po obraten redosled:', x[::-1])\n",
        "print('Sekoj 2 element posle indeks 5 po obraten redosled:', x[:5:-2])"
      ],
      "metadata": {
        "id": "acDiWA61CQTl",
        "colab": {
          "base_uri": "https://localhost:8080/"
        },
        "outputId": "62637e02-18a0-429c-c1ad-ad4a2901a9e2"
      },
      "execution_count": null,
      "outputs": [
        {
          "output_type": "stream",
          "name": "stdout",
          "text": [
            "[ 0  1  2  3  4  5  6  7  8  9 10 11 12 13 14]\n",
            "Prvite 5 elementi se: [0 1 2 3 4]\n",
            "Poslednite 4 elementi se: [11 12 13 14]\n",
            "Prviot element e: 1\n",
            "Posledniot element e: 14\n",
            "Site elementi posle 3tiot se: [ 3  4  5  6  7  8  9 10 11 12 13 14]\n",
            "Subarray so elementite povegju 2 i 6 (so 6tiot): [2 3 4 5 6]\n",
            "Subarray so elementite povegju 2 i 6 (bez 6tiot): [2 3 4 5]\n",
            "Sekoj 2 element: [ 0  2  4  6  8 10 12 14]\n",
            "Sekoj 2 element pocnuvajki od 1: [ 1  3  5  7  9 11 13]\n",
            "Sekoj 3 element: [ 0  3  6  9 12]\n",
            "Elementite po obraten redosled: [14 13 12 11 10  9  8  7  6  5  4  3  2  1  0]\n",
            "Sekoj 2 element posle indeks 5 po obraten redosled: [14 12 10  8  6]\n"
          ]
        }
      ]
    },
    {
      "cell_type": "markdown",
      "source": [
        "Now you will be given a few matrices, and be asked to replicate the resulting matrix outputs: (Во следните неколку келии, ќе имате резултати од матрици, ќе треба да го напишете кодот за да ја добиете таа матрица) \n",
        "Секаде ќе бидат оставени по 2 келии, пишувајте во првата за да не го пребришете резултатот од втората"
      ],
      "metadata": {
        "id": "vD4HU2s3_Pin"
      }
    },
    {
      "cell_type": "markdown",
      "source": [
        "1"
      ],
      "metadata": {
        "id": "fDK_N36e_3gI"
      }
    },
    {
      "cell_type": "code",
      "source": [
        "x=np.arange(1,26)\n",
        "y=x.reshape((5,5))\n",
        "print(y)"
      ],
      "metadata": {
        "id": "38T9TQTL--rW",
        "colab": {
          "base_uri": "https://localhost:8080/"
        },
        "outputId": "66ed2a80-60af-43bf-bbf2-5bc560f6e7da"
      },
      "execution_count": null,
      "outputs": [
        {
          "output_type": "stream",
          "name": "stdout",
          "text": [
            "[[ 1  2  3  4  5]\n",
            " [ 6  7  8  9 10]\n",
            " [11 12 13 14 15]\n",
            " [16 17 18 19 20]\n",
            " [21 22 23 24 25]]\n"
          ]
        }
      ]
    },
    {
      "cell_type": "code",
      "source": [],
      "metadata": {
        "colab": {
          "base_uri": "https://localhost:8080/"
        },
        "id": "VgQmbs1b_uqZ",
        "outputId": "a4c65178-29d9-417c-98b8-fce84020cab5"
      },
      "execution_count": null,
      "outputs": [
        {
          "output_type": "stream",
          "name": "stdout",
          "text": [
            "[[ 1  2  3  4  5]\n",
            " [ 6  7  8  9 10]\n",
            " [11 12 13 14 15]\n",
            " [16 17 18 19 20]\n",
            " [21 22 23 24 25]]\n"
          ]
        }
      ]
    },
    {
      "cell_type": "markdown",
      "source": [
        "Преку првата матрица пресметајте ги следните барања"
      ],
      "metadata": {
        "id": "9YyZICEz_-_-"
      }
    },
    {
      "cell_type": "markdown",
      "source": [
        "1.1"
      ],
      "metadata": {
        "id": "LEayc8vf_4Zg"
      }
    },
    {
      "cell_type": "code",
      "source": [
        "d=y[2:,1:]\n",
        "print(d)"
      ],
      "metadata": {
        "id": "ufiDoA1l_vJy",
        "colab": {
          "base_uri": "https://localhost:8080/"
        },
        "outputId": "a161af8f-6dca-485d-a28e-4bf06ea7681d"
      },
      "execution_count": null,
      "outputs": [
        {
          "output_type": "stream",
          "name": "stdout",
          "text": [
            "[[12 13 14 15]\n",
            " [17 18 19 20]\n",
            " [22 23 24 25]]\n"
          ]
        }
      ]
    },
    {
      "cell_type": "code",
      "source": [],
      "metadata": {
        "colab": {
          "base_uri": "https://localhost:8080/"
        },
        "id": "n4O9nFsu_5SA",
        "outputId": "157aa486-ebbb-421c-a511-9ce513de2339"
      },
      "execution_count": null,
      "outputs": [
        {
          "output_type": "stream",
          "name": "stdout",
          "text": [
            "[[12 13 14 15]\n",
            " [17 18 19 20]\n",
            " [22 23 24 25]]\n"
          ]
        }
      ]
    },
    {
      "cell_type": "markdown",
      "source": [
        "1.2"
      ],
      "metadata": {
        "id": "N5k05ujtAF6N"
      }
    },
    {
      "cell_type": "code",
      "source": [
        "d=y[3:4,4:]\n",
        "print(d)"
      ],
      "metadata": {
        "id": "Ahv53DGF_9OA",
        "colab": {
          "base_uri": "https://localhost:8080/"
        },
        "outputId": "5e2efcc9-f0e7-4e29-e8b9-4b435c351b60"
      },
      "execution_count": null,
      "outputs": [
        {
          "output_type": "stream",
          "name": "stdout",
          "text": [
            "[[20]]\n"
          ]
        }
      ]
    },
    {
      "cell_type": "code",
      "source": [],
      "metadata": {
        "colab": {
          "base_uri": "https://localhost:8080/"
        },
        "id": "tBFuBTu-AG5u",
        "outputId": "0234e8cb-22ee-4db6-e25c-7ac1203ecfde"
      },
      "execution_count": null,
      "outputs": [
        {
          "output_type": "execute_result",
          "data": {
            "text/plain": [
              "20"
            ]
          },
          "metadata": {},
          "execution_count": 10
        }
      ]
    },
    {
      "cell_type": "markdown",
      "source": [
        "1.3"
      ],
      "metadata": {
        "id": "bHWbqE_bAJVV"
      }
    },
    {
      "cell_type": "code",
      "source": [
        "d=y[:3,1:2]\n",
        "print(d)"
      ],
      "metadata": {
        "id": "aOnD4bTnAIBv",
        "colab": {
          "base_uri": "https://localhost:8080/"
        },
        "outputId": "7f6a9b15-3070-4b31-cc9c-6c8ba30a1c7a"
      },
      "execution_count": null,
      "outputs": [
        {
          "output_type": "stream",
          "name": "stdout",
          "text": [
            "[[ 2]\n",
            " [ 7]\n",
            " [12]]\n"
          ]
        }
      ]
    },
    {
      "cell_type": "code",
      "source": [],
      "metadata": {
        "colab": {
          "base_uri": "https://localhost:8080/"
        },
        "id": "TSsVrAaCAKgQ",
        "outputId": "9b6d95a9-8565-4cc6-db1a-b6c1568b28b9"
      },
      "execution_count": null,
      "outputs": [
        {
          "output_type": "stream",
          "name": "stdout",
          "text": [
            "[[ 2]\n",
            " [ 7]\n",
            " [12]]\n"
          ]
        }
      ]
    },
    {
      "cell_type": "markdown",
      "source": [
        "1.4"
      ],
      "metadata": {
        "id": "E9_lL6a6ANrt"
      }
    },
    {
      "cell_type": "code",
      "source": [
        "d=y[4:,:]\n",
        "print(d)"
      ],
      "metadata": {
        "id": "LtLR2UpeAMHQ",
        "colab": {
          "base_uri": "https://localhost:8080/"
        },
        "outputId": "5e6968b9-63ee-48a3-99c2-28678494226f"
      },
      "execution_count": null,
      "outputs": [
        {
          "output_type": "stream",
          "name": "stdout",
          "text": [
            "[[21 22 23 24 25]]\n"
          ]
        }
      ]
    },
    {
      "cell_type": "code",
      "source": [],
      "metadata": {
        "colab": {
          "base_uri": "https://localhost:8080/"
        },
        "id": "Cx0a3wEQAO5U",
        "outputId": "34b4f4ab-fa62-4d90-82e7-dd2c1af5b892"
      },
      "execution_count": null,
      "outputs": [
        {
          "output_type": "stream",
          "name": "stdout",
          "text": [
            "[21 22 23 24 25]\n"
          ]
        }
      ]
    },
    {
      "cell_type": "markdown",
      "source": [
        "1.5"
      ],
      "metadata": {
        "id": "NDO7PDLcAWPb"
      }
    },
    {
      "cell_type": "code",
      "source": [
        "d=y[3:,:]\n",
        "print(d)"
      ],
      "metadata": {
        "id": "VrTvTblGAQ3D",
        "colab": {
          "base_uri": "https://localhost:8080/"
        },
        "outputId": "b6eaf185-6115-4d5c-e252-7012deae4a89"
      },
      "execution_count": null,
      "outputs": [
        {
          "output_type": "stream",
          "name": "stdout",
          "text": [
            "[[16 17 18 19 20]\n",
            " [21 22 23 24 25]]\n"
          ]
        }
      ]
    },
    {
      "cell_type": "code",
      "source": [],
      "metadata": {
        "colab": {
          "base_uri": "https://localhost:8080/"
        },
        "id": "ageFsyVwAXZb",
        "outputId": "cf8740b8-3a00-4ad3-daf7-6a17bcd2e605"
      },
      "execution_count": null,
      "outputs": [
        {
          "output_type": "stream",
          "name": "stdout",
          "text": [
            "[[16 17 18 19 20]\n",
            " [21 22 23 24 25]]\n"
          ]
        }
      ]
    },
    {
      "cell_type": "markdown",
      "source": [
        "1.6 -> sum of all values (сума на сите елементи)"
      ],
      "metadata": {
        "id": "6CUUpPTlAb8i"
      }
    },
    {
      "cell_type": "code",
      "source": [
        "x=np.arange(1,26)\n",
        "y=x.reshape((5,5))\n",
        "print(y)\n",
        "r=y.sum()\n",
        "print('Sum of all values:\\n',r)"
      ],
      "metadata": {
        "id": "arFr6bB4AaWr",
        "colab": {
          "base_uri": "https://localhost:8080/"
        },
        "outputId": "92097068-607c-414f-d326-19a7dddaa364"
      },
      "execution_count": 245,
      "outputs": [
        {
          "output_type": "stream",
          "name": "stdout",
          "text": [
            "[[ 1  2  3  4  5]\n",
            " [ 6  7  8  9 10]\n",
            " [11 12 13 14 15]\n",
            " [16 17 18 19 20]\n",
            " [21 22 23 24 25]]\n",
            "Sum of all values\n",
            " 325\n"
          ]
        }
      ]
    },
    {
      "cell_type": "markdown",
      "source": [
        "1.7 -> sum of all the columns (сума на сите колони)"
      ],
      "metadata": {
        "id": "DUXjjoMjAgxJ"
      }
    },
    {
      "cell_type": "code",
      "source": [
        "x=np.arange(1,26)\n",
        "y=x.reshape((5,5))\n",
        "print(y)\n",
        "d=y.sum(axis=0)\n",
        "print()\n",
        "print('Sum of all columns:\\n', d)"
      ],
      "metadata": {
        "id": "QrJUjJjpArE4",
        "colab": {
          "base_uri": "https://localhost:8080/"
        },
        "outputId": "7ae4a417-90e8-47d7-bd73-3a52857cbc69"
      },
      "execution_count": 243,
      "outputs": [
        {
          "output_type": "stream",
          "name": "stdout",
          "text": [
            "[[ 1  2  3  4  5]\n",
            " [ 6  7  8  9 10]\n",
            " [11 12 13 14 15]\n",
            " [16 17 18 19 20]\n",
            " [21 22 23 24 25]]\n",
            "\n",
            "Sum of all columns\n",
            " [55 60 65 70 75]\n"
          ]
        }
      ]
    },
    {
      "cell_type": "markdown",
      "source": [
        "2"
      ],
      "metadata": {
        "id": "CwD2xchtDmN1"
      }
    },
    {
      "cell_type": "code",
      "source": [
        "x=np.arange(5,60,2)\n",
        "y=x.reshape((4,-1))\n",
        "print(y)"
      ],
      "metadata": {
        "id": "JBJ8kQgWDmzz",
        "colab": {
          "base_uri": "https://localhost:8080/"
        },
        "outputId": "147498f8-96dc-46e6-8f6d-df73c07da625"
      },
      "execution_count": null,
      "outputs": [
        {
          "output_type": "stream",
          "name": "stdout",
          "text": [
            "[[ 5  7  9 11 13 15 17]\n",
            " [19 21 23 25 27 29 31]\n",
            " [33 35 37 39 41 43 45]\n",
            " [47 49 51 53 55 57 59]]\n"
          ]
        }
      ]
    },
    {
      "cell_type": "code",
      "source": [],
      "metadata": {
        "colab": {
          "base_uri": "https://localhost:8080/"
        },
        "id": "aQyN2A6WDnEH",
        "outputId": "3872bbb0-578a-480d-bcee-0580b60daf1b"
      },
      "execution_count": null,
      "outputs": [
        {
          "output_type": "stream",
          "name": "stdout",
          "text": [
            "[[ 5  7  9 11 13 15 17]\n",
            " [19 21 23 25 27 29 31]\n",
            " [33 35 37 39 41 43 45]\n",
            " [47 49 51 53 55 57 59]]\n"
          ]
        }
      ]
    },
    {
      "cell_type": "markdown",
      "source": [
        "Преку првата матрица пресметајте ги следните барања"
      ],
      "metadata": {
        "id": "nqN8D5frEdgB"
      }
    },
    {
      "cell_type": "markdown",
      "source": [
        "2.1"
      ],
      "metadata": {
        "id": "gEFjC0exEBqz"
      }
    },
    {
      "cell_type": "code",
      "source": [
        "d=y[2:4,:5]\n",
        "print(d)"
      ],
      "metadata": {
        "id": "yYGSGvwADvZj",
        "colab": {
          "base_uri": "https://localhost:8080/"
        },
        "outputId": "31864bb6-f8c2-4317-877f-27dea7b7ffc7"
      },
      "execution_count": null,
      "outputs": [
        {
          "output_type": "stream",
          "name": "stdout",
          "text": [
            "[[33 35 37 39 41]\n",
            " [47 49 51 53 55]]\n"
          ]
        }
      ]
    },
    {
      "cell_type": "code",
      "source": [],
      "metadata": {
        "colab": {
          "base_uri": "https://localhost:8080/"
        },
        "id": "dDZHpynkECsz",
        "outputId": "80f97b88-e98e-4014-9289-62270348be25"
      },
      "execution_count": null,
      "outputs": [
        {
          "output_type": "stream",
          "name": "stdout",
          "text": [
            "[[33 35 37 39 41]\n",
            " [47 49 51 53 55]]\n"
          ]
        }
      ]
    },
    {
      "cell_type": "markdown",
      "source": [
        "2.2"
      ],
      "metadata": {
        "id": "qiKMsYU_EC_s"
      }
    },
    {
      "cell_type": "code",
      "source": [
        "d=y[:2,5:7]\n",
        "print(d)"
      ],
      "metadata": {
        "id": "cI4pgdMbEDtj",
        "colab": {
          "base_uri": "https://localhost:8080/"
        },
        "outputId": "5974bb94-cb52-4ce6-90dd-5e86990615c8"
      },
      "execution_count": null,
      "outputs": [
        {
          "output_type": "stream",
          "name": "stdout",
          "text": [
            "[[15 17]\n",
            " [29 31]]\n"
          ]
        }
      ]
    },
    {
      "cell_type": "code",
      "source": [],
      "metadata": {
        "colab": {
          "base_uri": "https://localhost:8080/"
        },
        "id": "9m56x4bCED89",
        "outputId": "dd58822f-0df8-4e37-a89c-9b30cace7e4d"
      },
      "execution_count": null,
      "outputs": [
        {
          "output_type": "stream",
          "name": "stdout",
          "text": [
            "[[15 17]\n",
            " [29 31]]\n"
          ]
        }
      ]
    },
    {
      "cell_type": "markdown",
      "source": [
        "2.3"
      ],
      "metadata": {
        "id": "rkwgpnvTEFTD"
      }
    },
    {
      "cell_type": "code",
      "source": [
        "d=y[1:2,:]\n",
        "print(d)"
      ],
      "metadata": {
        "id": "MVXaj4q4EGLr",
        "colab": {
          "base_uri": "https://localhost:8080/"
        },
        "outputId": "aec54592-12fe-43ba-f36d-ea2a939a2e64"
      },
      "execution_count": null,
      "outputs": [
        {
          "output_type": "stream",
          "name": "stdout",
          "text": [
            "[[19 21 23 25 27 29 31]]\n"
          ]
        }
      ]
    },
    {
      "cell_type": "code",
      "source": [],
      "metadata": {
        "colab": {
          "base_uri": "https://localhost:8080/"
        },
        "id": "AOUaJwxQEGoD",
        "outputId": "d09c7593-dbce-440b-a3ca-cf41afceee05"
      },
      "execution_count": null,
      "outputs": [
        {
          "output_type": "stream",
          "name": "stdout",
          "text": [
            "[19 21 23 25 27 29 31]\n"
          ]
        }
      ]
    },
    {
      "cell_type": "markdown",
      "source": [
        "2.4 -> sum of all the rows (сума на сите редици)"
      ],
      "metadata": {
        "id": "tJpMMlTeEKyS"
      }
    },
    {
      "cell_type": "code",
      "source": [
        "x=np.arange(5,60,2)\n",
        "y=x.reshape((4,-1))\n",
        "print(y)\n",
        "print()\n",
        "m=y.sum(axis=1)\n",
        "print('Sum of all rows:\\n',m)"
      ],
      "metadata": {
        "id": "j3QcxOhgEPuT",
        "colab": {
          "base_uri": "https://localhost:8080/"
        },
        "outputId": "01c7fa49-2361-4330-b39e-a5747442f1c6"
      },
      "execution_count": 246,
      "outputs": [
        {
          "output_type": "stream",
          "name": "stdout",
          "text": [
            "[[ 5  7  9 11 13 15 17]\n",
            " [19 21 23 25 27 29 31]\n",
            " [33 35 37 39 41 43 45]\n",
            " [47 49 51 53 55 57 59]]\n",
            "\n",
            "Sum of all rows\n",
            " [ 77 175 273 371]\n"
          ]
        }
      ]
    },
    {
      "cell_type": "markdown",
      "source": [
        "2.5"
      ],
      "metadata": {
        "id": "H3W4rkoXE79_"
      }
    },
    {
      "cell_type": "code",
      "source": [],
      "metadata": {
        "id": "x41zDeo8E9Hn"
      },
      "execution_count": null,
      "outputs": []
    },
    {
      "cell_type": "code",
      "source": [],
      "metadata": {
        "colab": {
          "base_uri": "https://localhost:8080/"
        },
        "id": "C9qOj3-HE9ag",
        "outputId": "d3413e41-2911-4097-e5b0-c55f6bf6ff18"
      },
      "execution_count": null,
      "outputs": [
        {
          "output_type": "execute_result",
          "data": {
            "text/plain": [
              "59"
            ]
          },
          "metadata": {},
          "execution_count": 25
        }
      ]
    },
    {
      "cell_type": "markdown",
      "source": [
        "1. Креирајте низа со 15 елементи.\n",
        "2. Извадете ги првите 7 елементи.\n",
        "3. Извадете ги последните 7 елементи.\n",
        "4. Извадете ги елементите кои се наоѓаат помеѓу индексите 11 и 13 (со вклучен елементот на индекс 13)\n",
        "5. Креирајте подниза која како елементи ќе го има секој 3 елемент од првичната низа.\n",
        "6. Креирајте подниза која како елементи ќе го има секој 3 елемент од првичната нзиа, но по обратен редослед.\n",
        "7. Креирајте низа со истите 15 елементи, но по обратен редослед.\n",
        "8. Извадете ги елементите после елементот со индекс 7, но по обратен редослед.\n",
        "9. Извадете ги елементите пред елементот со индекс 4, но по обратен редослед.\n",
        "10. Извадете го секој 3 елемент после индекс 9, но по обратен редослед.\n"
      ],
      "metadata": {
        "id": "LHBJQ9UwFNBp"
      }
    },
    {
      "cell_type": "code",
      "source": [
        "#1\n",
        "x=np.arange(0,15)\n",
        "print(x)"
      ],
      "metadata": {
        "id": "czxkjAbBGBvz",
        "colab": {
          "base_uri": "https://localhost:8080/"
        },
        "outputId": "dc039ce9-b3af-4af1-9adb-8e42814f1811"
      },
      "execution_count": null,
      "outputs": [
        {
          "output_type": "stream",
          "name": "stdout",
          "text": [
            "[ 0  1  2  3  4  5  6  7  8  9 10 11 12 13 14]\n"
          ]
        }
      ]
    },
    {
      "cell_type": "code",
      "source": [
        "#2\n",
        "y=x[:7]\n",
        "print(y)"
      ],
      "metadata": {
        "id": "2d68sbDHGDMs",
        "colab": {
          "base_uri": "https://localhost:8080/"
        },
        "outputId": "29a64c6f-85cd-428a-8685-60efe0d967ef"
      },
      "execution_count": null,
      "outputs": [
        {
          "output_type": "stream",
          "name": "stdout",
          "text": [
            "[0 1 2 3 4 5 6]\n"
          ]
        }
      ]
    },
    {
      "cell_type": "code",
      "source": [
        "#3\n",
        "y=x[7:]\n",
        "print(y)"
      ],
      "metadata": {
        "id": "E90xToyLGDqo",
        "colab": {
          "base_uri": "https://localhost:8080/"
        },
        "outputId": "2dc44dfb-fdc0-4413-8770-d6e9613a06e8"
      },
      "execution_count": null,
      "outputs": [
        {
          "output_type": "stream",
          "name": "stdout",
          "text": [
            "[ 7  8  9 10 11 12 13 14]\n"
          ]
        }
      ]
    },
    {
      "cell_type": "code",
      "source": [
        "#4\n",
        "y=x[11:14]\n",
        "print(y)"
      ],
      "metadata": {
        "id": "AXp8mjtNGEH8",
        "colab": {
          "base_uri": "https://localhost:8080/"
        },
        "outputId": "4b6fe050-f17a-4446-b760-72e614d793dd"
      },
      "execution_count": null,
      "outputs": [
        {
          "output_type": "stream",
          "name": "stdout",
          "text": [
            "[11 12 13]\n"
          ]
        }
      ]
    },
    {
      "cell_type": "code",
      "source": [
        "#5\n",
        "y=x[::3]\n",
        "print(y)"
      ],
      "metadata": {
        "id": "vvnkve32GFbH",
        "colab": {
          "base_uri": "https://localhost:8080/"
        },
        "outputId": "87846c88-028e-4baf-c332-2c87bbcafb8d"
      },
      "execution_count": null,
      "outputs": [
        {
          "output_type": "stream",
          "name": "stdout",
          "text": [
            "[ 0  3  6  9 12]\n"
          ]
        }
      ]
    },
    {
      "cell_type": "code",
      "source": [
        "#6\n",
        "y=x[::-3]\n",
        "print(y)"
      ],
      "metadata": {
        "id": "cD7OTxhWGF3j",
        "colab": {
          "base_uri": "https://localhost:8080/"
        },
        "outputId": "9fb47e8a-388f-4322-b2a9-588880d50310"
      },
      "execution_count": null,
      "outputs": [
        {
          "output_type": "stream",
          "name": "stdout",
          "text": [
            "[14 11  8  5  2]\n"
          ]
        }
      ]
    },
    {
      "cell_type": "code",
      "source": [
        "#7\n",
        "y=x[::-1]\n",
        "print(y)"
      ],
      "metadata": {
        "id": "mw7L_lGXGGR_",
        "colab": {
          "base_uri": "https://localhost:8080/"
        },
        "outputId": "0144dd09-bc36-4ed1-d5c6-0cfca3e1d44e"
      },
      "execution_count": null,
      "outputs": [
        {
          "output_type": "stream",
          "name": "stdout",
          "text": [
            "[14 13 12 11 10  9  8  7  6  5  4  3  2  1  0]\n"
          ]
        }
      ]
    },
    {
      "cell_type": "code",
      "source": [
        "#8\n",
        "y=x[:7:-1]\n",
        "print(y)"
      ],
      "metadata": {
        "id": "OJ8O7pUhGGp_",
        "colab": {
          "base_uri": "https://localhost:8080/"
        },
        "outputId": "8380ec9f-9ef9-415f-8fa8-9a41dc96a61c"
      },
      "execution_count": null,
      "outputs": [
        {
          "output_type": "stream",
          "name": "stdout",
          "text": [
            "[14 13 12 11 10  9  8]\n"
          ]
        }
      ]
    },
    {
      "cell_type": "code",
      "source": [
        "#9\n",
        "y=x[4::-1]\n",
        "print(y)"
      ],
      "metadata": {
        "id": "UTDKQcmgGHBF",
        "colab": {
          "base_uri": "https://localhost:8080/"
        },
        "outputId": "7946aa4c-680d-4128-e755-77ecc327aa27"
      },
      "execution_count": null,
      "outputs": [
        {
          "output_type": "stream",
          "name": "stdout",
          "text": [
            "[4 3 2 1 0]\n"
          ]
        }
      ]
    },
    {
      "cell_type": "code",
      "source": [
        "#10\n",
        "y=x[:9:-3]\n",
        "print(y)"
      ],
      "metadata": {
        "id": "eyXpccgyGHme",
        "colab": {
          "base_uri": "https://localhost:8080/"
        },
        "outputId": "20808e78-2dbf-42ce-86de-e9ea2c2c3ea2"
      },
      "execution_count": null,
      "outputs": [
        {
          "output_type": "stream",
          "name": "stdout",
          "text": [
            "[14 11]\n"
          ]
        }
      ]
    },
    {
      "cell_type": "markdown",
      "source": [
        "Креирај нова матрица чии елементи \n",
        "ќе произлезат од други 2 матрици. Во прилог логиката која треба да ја искористите: (Ова е всушност множење на матрици)"
      ],
      "metadata": {
        "id": "lIPPzRwaGTU6"
      }
    },
    {
      "cell_type": "code",
      "source": [
        "#c[0][0] = a[0][0]*b[0][0] + a[0][1]*b[1][0]\n",
        "#c[0][1] = a[0][0]*b[0][1] + a[0][1]*b[1][1]\n",
        "#c[1][0] = a[1][0]*b[0][0] + a[1][1]*b[1][0]\n",
        "#c[1][1] = a[1][0]*b[0][1] + a[1][1]*b[1][1]"
      ],
      "metadata": {
        "colab": {
          "base_uri": "https://localhost:8080/"
        },
        "id": "84GVfgPRGhvs",
        "outputId": "321e92ed-0e35-4061-b8f8-5dfcde0328da"
      },
      "execution_count": null,
      "outputs": [
        {
          "output_type": "stream",
          "name": "stdout",
          "text": [
            "A\n",
            " [[2 3]\n",
            " [3 4]]\n",
            "B\n",
            " [[1 1]\n",
            " [1 1]]\n",
            "C\n",
            " [[5 5]\n",
            " [7 7]]\n"
          ]
        }
      ]
    },
    {
      "cell_type": "code",
      "source": [
        "#resenieto napisete go ovde\n",
        "\n",
        "a=np.array([[2,3],[3,4]])\n",
        "print('A\\n',a)\n",
        "\n",
        "b=np.ones((4))\n",
        "y=b.reshape((2,2))\n",
        "print('B\\n',y)\n",
        "\n",
        "c=np.array([[5,5],[7,7]])\n",
        "print('C\\n',c)\n",
        "\n",
        "q=a[0][0]*y[0][0]\n",
        "r=c[0][1]*y[1][0]\n",
        "w=a[1][0]*c[0][0]\n",
        "t=y[1][1]*c[1][0]\n",
        "e=a[1][0]*y[0][1]\n",
        "u=a[1][1]*y[1][1]\n",
        "\n",
        "d=np.array([[q,r],[w,t],[e,u]])\n",
        "print('Novata matrica e:\\n',d)\n",
        "\n"
      ],
      "metadata": {
        "id": "-3OMY0s2GIFp",
        "colab": {
          "base_uri": "https://localhost:8080/"
        },
        "outputId": "3c715b2d-4852-4bf9-f828-7eb06a3bb774"
      },
      "execution_count": 273,
      "outputs": [
        {
          "output_type": "stream",
          "name": "stdout",
          "text": [
            "A\n",
            " [[2 3]\n",
            " [3 4]]\n",
            "B\n",
            " [[1. 1.]\n",
            " [1. 1.]]\n",
            "C\n",
            " [[5 5]\n",
            " [7 7]]\n",
            "Novata matrica e:\n",
            " [[ 2.  5.]\n",
            " [15.  7.]\n",
            " [ 3.  4.]]\n"
          ]
        }
      ]
    }
  ]
}